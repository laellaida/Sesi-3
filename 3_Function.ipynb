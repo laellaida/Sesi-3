{
 "cells": [
  {
   "cell_type": "markdown",
   "id": "909cf22c",
   "metadata": {},
   "source": [
    "# Role Mode"
   ]
  },
  {
   "cell_type": "code",
   "execution_count": 1,
   "id": "dba372b6",
   "metadata": {},
   "outputs": [],
   "source": [
    "def my_function(p,l):\n",
    "    \"Function untuk menghitung luas\"\n",
    "    print(p*l)"
   ]
  },
  {
   "cell_type": "code",
   "execution_count": 2,
   "id": "836953c1",
   "metadata": {},
   "outputs": [
    {
     "name": "stdout",
     "output_type": "stream",
     "text": [
      "8\n"
     ]
    }
   ],
   "source": [
    "my_function(2,4)"
   ]
  },
  {
   "cell_type": "code",
   "execution_count": 3,
   "id": "d25fd8bf",
   "metadata": {},
   "outputs": [
    {
     "name": "stdout",
     "output_type": "stream",
     "text": [
      "32\n"
     ]
    }
   ],
   "source": [
    "my_function(4,8)\n",
    "def my_function(p,l):\n",
    "    \"Function untuk menghitung luas\"\n",
    "    print(p*l)"
   ]
  },
  {
   "cell_type": "markdown",
   "id": "8b33edc9",
   "metadata": {},
   "source": [
    "# Pass by Reference vs value"
   ]
  },
  {
   "cell_type": "code",
   "execution_count": 4,
   "id": "8c458335",
   "metadata": {},
   "outputs": [
    {
     "name": "stdout",
     "output_type": "stream",
     "text": [
      "values inside the function :  [10, 20, 30, [1, 2, 3, 4]]\n",
      "Values outside the function :  [10, 20, 30, [1, 2, 3, 4]]\n"
     ]
    }
   ],
   "source": [
    "def changeme(mylist) :\n",
    "    \"this changes a passed list into this function\"\n",
    "    mylist.append([1,2,3,4]);\n",
    "    print(\"values inside the function : \" , mylist)\n",
    "    return\n",
    "\n",
    "mylist =[10,20,30];\n",
    "changeme(mylist);\n",
    "print(\"Values outside the function : \", mylist)"
   ]
  },
  {
   "cell_type": "code",
   "execution_count": 7,
   "id": "9b3b614a",
   "metadata": {},
   "outputs": [
    {
     "name": "stdout",
     "output_type": "stream",
     "text": [
      "values inside the function :  [1, 2, 3, 4]\n",
      "values outside the function :  [10, 20, 30]\n"
     ]
    }
   ],
   "source": [
    "#argumen diteruskan oleh reference dan reference dioverwrite dalam fungsi yang dipanggil\n",
    "def changeme(mylist) :\n",
    "    \"this changes a passed list into this function\"\n",
    "    mylist = [1,2,3,4];\n",
    "    print(\"values inside the function : \" , mylist)\n",
    "    return\n",
    "\n",
    "mylist =[10,20,30];\n",
    "changeme(mylist);\n",
    "print(\"values outside the function : \", mylist)"
   ]
  },
  {
   "cell_type": "markdown",
   "id": "898a8f35",
   "metadata": {},
   "source": [
    "# Keyword Argument"
   ]
  },
  {
   "cell_type": "code",
   "execution_count": 8,
   "id": "8b5e69fc",
   "metadata": {},
   "outputs": [
    {
     "name": "stdout",
     "output_type": "stream",
     "text": [
      "A\n"
     ]
    }
   ],
   "source": [
    "# Harus ada argument \n",
    "\n",
    "def printme(str):\n",
    "    \"this prints a passed string this function\"\n",
    "    print(str)\n",
    "    return;\n",
    "\n",
    "printme(str = \"A\") #harus ada argumen jika tidak maka error"
   ]
  },
  {
   "cell_type": "code",
   "execution_count": 12,
   "id": "477ad7a8",
   "metadata": {},
   "outputs": [
    {
     "name": "stdout",
     "output_type": "stream",
     "text": [
      "name : aku\n",
      "age  :  4\n"
     ]
    }
   ],
   "source": [
    "\n",
    "def printinfo(name, age):\n",
    "    \"this prints a passed string this function\"\n",
    "    print(\"name :\", name)\n",
    "    print(\"age  : \", age)\n",
    "    return;\n",
    "\n",
    "printinfo(age = 4, name=\"aku\") #harus ada argumen"
   ]
  },
  {
   "cell_type": "code",
   "execution_count": 14,
   "id": "8d564be3",
   "metadata": {},
   "outputs": [
    {
     "name": "stdout",
     "output_type": "stream",
     "text": [
      "name:  ida\n",
      "age :  50\n",
      "name:  atmaja\n",
      "age :  26\n"
     ]
    }
   ],
   "source": [
    "def printinfo(name, age = 26) :\n",
    "    \"this prints a passed info into this function\"\n",
    "    print(\"name: \", name)\n",
    "    print(\"age : \", age)\n",
    "    return;\n",
    "\n",
    "printinfo(age=50, name=\"ida\")\n",
    "printinfo(name=\"atmaja\")"
   ]
  },
  {
   "cell_type": "code",
   "execution_count": 15,
   "id": "aacc8ae8",
   "metadata": {},
   "outputs": [
    {
     "name": "stdout",
     "output_type": "stream",
     "text": [
      "20000\n",
      "beli majalah\n"
     ]
    }
   ],
   "source": [
    "hargabuku = int(input())\n",
    "hargamajalah = 5000\n",
    "uang = 5000\n",
    "\n",
    "if uang > hargabuku:\n",
    "    print(\"beli buku\")\n",
    "elif uang >= hargamajalah:\n",
    "    print(\"beli majalah\")\n",
    "else:\n",
    "    print(\"uang tidak cukup\")"
   ]
  },
  {
   "cell_type": "code",
   "execution_count": null,
   "id": "b9f4e043",
   "metadata": {},
   "outputs": [],
   "source": [
    "hargapisang = 3000\n",
    "hargajual = int(input(\"harga beli : \"))\n",
    "disk = hargajual * 0.05\n",
    "totalbayar = int\n",
    "if hargajual >= 100000:\n",
    "    print(disk)\n",
    "    print(totalbayar = hargajual-disk)\n",
    "else:\n",
    "    print(\"tidak dapat diskon\")\n",
    "print()"
   ]
  },
  {
   "cell_type": "code",
   "execution_count": null,
   "id": "8e52bb87",
   "metadata": {},
   "outputs": [],
   "source": [
    "print()"
   ]
  },
  {
   "cell_type": "code",
   "execution_count": 23,
   "id": "ecd566db",
   "metadata": {},
   "outputs": [
    {
     "name": "stdout",
     "output_type": "stream",
     "text": [
      "berapa gaji kamu? = 1000000\n",
      "berapa year of service = 10\n",
      "maka gaji kamu =  1100000.0\n"
     ]
    }
   ],
   "source": [
    "#QUIS 2\n",
    "\n",
    "gaji = int(input(\"berapa gaji kamu? = \"))\n",
    "year = int(input(\"berapa year of service = \"))\n",
    "if year >= 10: \n",
    "    bonus = 0.1 * gaji\n",
    "    total_gaji = gaji+bonus\n",
    "    print(\"maka gaji kamu = \", total_gaji)\n",
    "else :\n",
    "    print(\"gak dapat bonus\")"
   ]
  },
  {
   "cell_type": "code",
   "execution_count": null,
   "id": "483e67ad",
   "metadata": {},
   "outputs": [],
   "source": [
    "n = int(input())\n",
    "for i in range(1,n+1):\n",
    "    if i % 2 == 0 :\n",
    "        print('genap :', i)\n",
    "        continue\n",
    "    print('ganjil : ', i)"
   ]
  },
  {
   "cell_type": "markdown",
   "id": "dc4552fe",
   "metadata": {},
   "source": [
    "## Default Argument"
   ]
  },
  {
   "cell_type": "code",
   "execution_count": 3,
   "id": "1952efd3",
   "metadata": {},
   "outputs": [
    {
     "name": "stdout",
     "output_type": "stream",
     "text": [
      "Ida\n",
      "Name:  Ida\n",
      "Age :  26\n",
      "Name:  Dini\n",
      "Age :  26\n"
     ]
    }
   ],
   "source": [
    "def printinfo(name, age = 26) :\n",
    "    \"This prints a passed info into this function\"\n",
    "    print(\"Name: \", name)\n",
    "    print(\"Age : \", age)\n",
    "    return;\n",
    "\n",
    "#now you can call printinfo function\n",
    "printinfo(str(input()))\n",
    "printinfo(name = \"Dini\")"
   ]
  },
  {
   "cell_type": "code",
   "execution_count": 4,
   "id": "f2240796",
   "metadata": {},
   "outputs": [
    {
     "name": "stdout",
     "output_type": "stream",
     "text": [
      "Output is: \n",
      "10\n",
      "Output is: \n",
      "70\n",
      "60\n",
      "50\n",
      "a\n"
     ]
    }
   ],
   "source": [
    "# function definition is here\n",
    "def printinfo(arg1, *vartuple) : #tuple akan tetap kosong selama tidak ada argument kunci\n",
    "    \"This prints a variable passed argument\"\n",
    "    print(\"Output is: \")\n",
    "    print(arg1)\n",
    "    for var in vartuple:\n",
    "        print(var)\n",
    "    return;\n",
    "\n",
    "# call printinfo function\n",
    "printinfo(10)\n",
    "printinfo(70,60,50,'a')"
   ]
  },
  {
   "cell_type": "markdown",
   "id": "b464a9a1",
   "metadata": {},
   "source": [
    "## The Anonymous Function"
   ]
  },
  {
   "cell_type": "code",
   "execution_count": 11,
   "id": "31b15775",
   "metadata": {},
   "outputs": [
    {
     "name": "stdout",
     "output_type": "stream",
     "text": [
      "total :  None\n",
      "total :  None\n"
     ]
    }
   ],
   "source": [
    "sum = lambda arg1, arg2: arg1 + arg2;\n",
    "\n",
    "def sum(arg1, arg2):\n",
    "    arg1 + arg2\n",
    "\n",
    "    \n",
    "print(\"total : \", sum(10, 20))\n",
    "print(\"total : \", sum(30, 20))"
   ]
  },
  {
   "cell_type": "markdown",
   "id": "12c6f1b1",
   "metadata": {},
   "source": [
    "## The return Statement\n"
   ]
  },
  {
   "cell_type": "code",
   "execution_count": 13,
   "id": "ccf4a199",
   "metadata": {},
   "outputs": [
    {
     "name": "stdout",
     "output_type": "stream",
     "text": [
      "inside the function :  30\n",
      "outside the function :  40\n"
     ]
    }
   ],
   "source": [
    "def sum(arg1, arg2):\n",
    "    \n",
    "    total = arg1 + arg2\n",
    "    total2 = total + arg1\n",
    "    print('inside the function : ', total)\n",
    "    return total2\n",
    "\n",
    "total = sum(10,20)\n",
    "print(\"outside the function : \", total)"
   ]
  },
  {
   "cell_type": "markdown",
   "id": "345ae8c0",
   "metadata": {},
   "source": [
    "## Scope Variable"
   ]
  },
  {
   "cell_type": "code",
   "execution_count": 17,
   "id": "9ade540e",
   "metadata": {},
   "outputs": [
    {
     "ename": "IndentationError",
     "evalue": "expected an indented block (1292570772.py, line 13)",
     "output_type": "error",
     "traceback": [
      "\u001b[1;36m  File \u001b[1;32m\"C:\\Users\\ASUS\\AppData\\Local\\Temp\\ipykernel_8896\\1292570772.py\"\u001b[1;36m, line \u001b[1;32m13\u001b[0m\n\u001b[1;33m    sum(10, 20);\u001b[0m\n\u001b[1;37m    ^\u001b[0m\n\u001b[1;31mIndentationError\u001b[0m\u001b[1;31m:\u001b[0m expected an indented block\n"
     ]
    }
   ],
   "source": [
    "total = 0;\n",
    "\n",
    "\n",
    "def sum(arg1, arg2):\n",
    "    \n",
    "    total = arg1 + arg2\n",
    "    print('inside the function : ', total)\n",
    "    return total;\n",
    "\n",
    "def min():\n",
    "    \n",
    "\n",
    "sum(10, 20);\n",
    "print(\"outside the function : \", total)"
   ]
  },
  {
   "cell_type": "code",
   "execution_count": 20,
   "id": "8754d585",
   "metadata": {},
   "outputs": [
    {
     "data": {
      "text/plain": [
       "40"
      ]
     },
     "execution_count": 20,
     "metadata": {},
     "output_type": "execute_result"
    }
   ],
   "source": [
    "jumlah_kucing = 20\n",
    "\n",
    "def jumlah_hewan():\n",
    "    jumlah_anjing = 30\n",
    "    return jumlah_kucing + jumlah_anjing\n",
    "\n",
    "def jumlah_kelinci():\n",
    "    return jumlah_kucing + jumlah_kucing\n",
    "\n",
    "jumlah_hewan()\n",
    "jumlah_kelinci()"
   ]
  },
  {
   "cell_type": "markdown",
   "id": "cdd7036b",
   "metadata": {},
   "source": [
    "# 2.1. Module"
   ]
  },
  {
   "cell_type": "code",
   "execution_count": 21,
   "id": "debc4ea0",
   "metadata": {},
   "outputs": [],
   "source": [
    "s = \"hacktive-ptp  python for data science\"\n",
    "a = [100, 200, 300]\n",
    "\n",
    "def foo(arg):\n",
    "    print(f'arg ={arg}')\n",
    "    \n",
    "class foo:\n",
    "    pass"
   ]
  },
  {
   "cell_type": "code",
   "execution_count": 15,
   "id": "01b36a32-d855-4e62-ada7-0e433f28c824",
   "metadata": {},
   "outputs": [
    {
     "data": {
      "text/plain": [
       "720"
      ]
     },
     "execution_count": 15,
     "metadata": {},
     "output_type": "execute_result"
    }
   ],
   "source": [
    "from fact import fact\n",
    "fact(6)"
   ]
  },
  {
   "cell_type": "code",
   "execution_count": 1,
   "id": "312ff215",
   "metadata": {},
   "outputs": [
    {
     "data": {
      "text/plain": [
       "'AYAMBURUNG'"
      ]
     },
     "execution_count": 1,
     "metadata": {},
     "output_type": "execute_result"
    }
   ],
   "source": [
    "## Quis\n",
    "\n",
    "def str_joiner(a,b):\n",
    "    a = a.upper()\n",
    "    b = b.upper()\n",
    "    return a + b\n",
    "\n",
    "str_joiner('ayam','burung')"
   ]
  },
  {
   "cell_type": "code",
   "execution_count": 9,
   "id": "54f6f6e1-66ba-4626-ad6b-77c78610795f",
   "metadata": {},
   "outputs": [
    {
     "data": {
      "text/plain": [
       "'C:\\\\Users\\\\ASUS\\\\[hacktiv8]\\\\Self Learning\\\\mod.py'"
      ]
     },
     "execution_count": 9,
     "metadata": {},
     "output_type": "execute_result"
    }
   ],
   "source": [
    "import mod\n",
    "mod.a\n",
    "mod.__file__"
   ]
  },
  {
   "cell_type": "code",
   "execution_count": 22,
   "id": "f0f34869-48b9-48cf-a4ac-561c36a80a92",
   "metadata": {},
   "outputs": [],
   "source": [
    "import mod as m"
   ]
  },
  {
   "cell_type": "code",
   "execution_count": 25,
   "id": "1f0c66ea-0db1-4c16-a58a-25119f5d2365",
   "metadata": {},
   "outputs": [
    {
     "data": {
      "text/plain": [
       "<mod.foo at 0x1f89d88e4f0>"
      ]
     },
     "execution_count": 25,
     "metadata": {},
     "output_type": "execute_result"
    }
   ],
   "source": [
    "m.foo()"
   ]
  },
  {
   "cell_type": "markdown",
   "id": "93735ae2",
   "metadata": {},
   "source": [
    "# QUIS1"
   ]
  },
  {
   "cell_type": "code",
   "execution_count": 10,
   "id": "5ea51a96",
   "metadata": {},
   "outputs": [
    {
     "data": {
      "text/plain": [
       "'nakam uam ayas'"
      ]
     },
     "execution_count": 10,
     "metadata": {},
     "output_type": "execute_result"
    }
   ],
   "source": [
    "# Membuat kata Reverse dan menjadi kecil\n",
    "\n",
    "def str_joiner(a,b,c):\n",
    "    a = a.lower()\n",
    "    b = b.lower()\n",
    "    c = c.lower()\n",
    "    return (a+' '+b+' '+c)[::-1]\n",
    "\n",
    "str_joiner('Saya','Mau','Makan')"
   ]
  },
  {
   "cell_type": "markdown",
   "id": "91505ffa",
   "metadata": {},
   "source": [
    "* Variabel Global\n",
    "* Variabel Lokal"
   ]
  },
  {
   "cell_type": "code",
   "execution_count": 11,
   "id": "188960a4",
   "metadata": {},
   "outputs": [
    {
     "name": "stdout",
     "output_type": "stream",
     "text": [
      "20\n",
      "3\n"
     ]
    }
   ],
   "source": [
    "total = 20 #variabel global\n",
    "\n",
    "def function_a(a,b):\n",
    "    total = a+b #variabel lokal\n",
    "    return total\n",
    "\n",
    "print(total)\n",
    "print(function_a(1,2))"
   ]
  },
  {
   "cell_type": "code",
   "execution_count": 12,
   "id": "62a06c23",
   "metadata": {},
   "outputs": [
    {
     "data": {
      "text/plain": [
       "20"
      ]
     },
     "execution_count": 12,
     "metadata": {},
     "output_type": "execute_result"
    }
   ],
   "source": [
    "total"
   ]
  },
  {
   "cell_type": "code",
   "execution_count": 15,
   "id": "2fcdac02",
   "metadata": {},
   "outputs": [
    {
     "name": "stdout",
     "output_type": "stream",
     "text": [
      "Tes\n"
     ]
    },
    {
     "ename": "NameError",
     "evalue": "name 'tes' is not defined",
     "output_type": "error",
     "traceback": [
      "\u001b[1;31m---------------------------------------------------------------------------\u001b[0m",
      "\u001b[1;31mNameError\u001b[0m                                 Traceback (most recent call last)",
      "\u001b[1;32m~\\AppData\\Local\\Temp\\ipykernel_4052\\1120478211.py\u001b[0m in \u001b[0;36m<module>\u001b[1;34m\u001b[0m\n\u001b[0;32m      4\u001b[0m \u001b[1;33m\u001b[0m\u001b[0m\n\u001b[0;32m      5\u001b[0m \u001b[0mfunction_b\u001b[0m\u001b[1;33m(\u001b[0m\u001b[1;33m)\u001b[0m\u001b[1;33m\u001b[0m\u001b[1;33m\u001b[0m\u001b[0m\n\u001b[1;32m----> 6\u001b[1;33m \u001b[0mprint\u001b[0m\u001b[1;33m(\u001b[0m\u001b[0mtes\u001b[0m\u001b[1;33m)\u001b[0m\u001b[1;33m\u001b[0m\u001b[1;33m\u001b[0m\u001b[0m\n\u001b[0m",
      "\u001b[1;31mNameError\u001b[0m: name 'tes' is not defined"
     ]
    }
   ],
   "source": [
    "def function_b():\n",
    "    tes = 'Tes'\n",
    "    print(tes)\n",
    "    \n",
    "function_b()\n",
    "print(tes) #function lokal yang gak bisa diakses dimana-mana"
   ]
  },
  {
   "cell_type": "markdown",
   "id": "b759d242",
   "metadata": {},
   "source": [
    "# QUIS2"
   ]
  },
  {
   "cell_type": "code",
   "execution_count": 28,
   "id": "5850864e",
   "metadata": {},
   "outputs": [
    {
     "name": "stdout",
     "output_type": "stream",
     "text": [
      "A. n angka ganjil adalah = 7\n",
      "B. n angka genap adalah = 6\n",
      "C. n sum angka ganjil adalah = 237\n",
      "D. n sum angka genap adalah = 274\n"
     ]
    }
   ],
   "source": [
    "# Menampilkan ouput jumlah angka ganjil, genap, sum angka ganjil, genap\n",
    "\n",
    "mylist = [1,23,31,40,50,67,74,88,91,10,11,12,13]\n",
    "\n",
    "def list_summary(a):\n",
    "    nGenap = 0 #placeholder n angka genap\n",
    "    nGanjil = 0\n",
    "    sumGenap = 0\n",
    "    sumGanjil = 0\n",
    "    for i in a :\n",
    "        if i % 2 == 0: #untuk filter angka genap\n",
    "            nGenap += 1\n",
    "            sumGenap += i\n",
    "        else:\n",
    "            nGanjil += 1\n",
    "            sumGanjil += i\n",
    "    print('A. n angka ganjil adalah = ' +str(nGanjil))\n",
    "    print('B. n angka genap adalah = ' +str(nGenap))\n",
    "    print('C. n sum angka ganjil adalah = ' +str(sumGanjil))\n",
    "    print('D. n sum angka genap adalah = ' +str(sumGenap))\n",
    "    \n",
    "list_summary(mylist)"
   ]
  },
  {
   "cell_type": "code",
   "execution_count": 29,
   "id": "38f9b191",
   "metadata": {},
   "outputs": [],
   "source": [
    "import numpy as np"
   ]
  },
  {
   "cell_type": "markdown",
   "id": "54bc3a3b",
   "metadata": {},
   "source": [
    "# Lambda"
   ]
  },
  {
   "cell_type": "code",
   "execution_count": 34,
   "id": "4ec7752b",
   "metadata": {},
   "outputs": [
    {
     "data": {
      "text/plain": [
       "['In',\n",
       " 'Out',\n",
       " '_',\n",
       " '_1',\n",
       " '_10',\n",
       " '_12',\n",
       " '_16',\n",
       " '_17',\n",
       " '_9',\n",
       " '__',\n",
       " '___',\n",
       " '__builtin__',\n",
       " '__builtins__',\n",
       " '__doc__',\n",
       " '__loader__',\n",
       " '__name__',\n",
       " '__package__',\n",
       " '__spec__',\n",
       " '_dh',\n",
       " '_i',\n",
       " '_i1',\n",
       " '_i10',\n",
       " '_i11',\n",
       " '_i12',\n",
       " '_i13',\n",
       " '_i14',\n",
       " '_i15',\n",
       " '_i16',\n",
       " '_i17',\n",
       " '_i18',\n",
       " '_i19',\n",
       " '_i2',\n",
       " '_i20',\n",
       " '_i21',\n",
       " '_i22',\n",
       " '_i23',\n",
       " '_i24',\n",
       " '_i25',\n",
       " '_i26',\n",
       " '_i27',\n",
       " '_i28',\n",
       " '_i29',\n",
       " '_i3',\n",
       " '_i30',\n",
       " '_i31',\n",
       " '_i32',\n",
       " '_i33',\n",
       " '_i34',\n",
       " '_i4',\n",
       " '_i5',\n",
       " '_i6',\n",
       " '_i7',\n",
       " '_i8',\n",
       " '_i9',\n",
       " '_ih',\n",
       " '_ii',\n",
       " '_iii',\n",
       " '_oh',\n",
       " 'exit',\n",
       " 'function_a',\n",
       " 'function_b',\n",
       " 'get_ipython',\n",
       " 'list_summary',\n",
       " 'mylist',\n",
       " 'np',\n",
       " 'printinfo',\n",
       " 'quit',\n",
       " 'str_joiner',\n",
       " 'total']"
      ]
     },
     "execution_count": 34,
     "metadata": {},
     "output_type": "execute_result"
    }
   ],
   "source": [
    "dir()"
   ]
  },
  {
   "cell_type": "code",
   "execution_count": 1,
   "id": "dac965c8",
   "metadata": {},
   "outputs": [],
   "source": [
    "import numpy as np"
   ]
  },
  {
   "cell_type": "code",
   "execution_count": 2,
   "id": "6eebb42c-3b96-423b-bddd-bf87f5d5e5e0",
   "metadata": {},
   "outputs": [
    {
     "data": {
      "text/plain": [
       "<module 'numpy' from 'C:\\\\Users\\\\ASUS\\\\anaconda3\\\\lib\\\\site-packages\\\\numpy\\\\__init__.py'>"
      ]
     },
     "execution_count": 2,
     "metadata": {},
     "output_type": "execute_result"
    }
   ],
   "source": [
    "np"
   ]
  },
  {
   "cell_type": "markdown",
   "id": "561e6b81-b9a1-4f12-848b-b4ef0e85e387",
   "metadata": {},
   "source": [
    "# 2.2 Package "
   ]
  },
  {
   "cell_type": "code",
   "execution_count": 30,
   "id": "0f9e9ec5-ebe5-4f3d-bc1f-634257087e23",
   "metadata": {},
   "outputs": [],
   "source": [
    "from mod import *"
   ]
  },
  {
   "cell_type": "code",
   "execution_count": 36,
   "id": "e4bc0222-86ba-4101-a82a-10179ee9fa95",
   "metadata": {},
   "outputs": [],
   "source": [
    "import mod, fact"
   ]
  },
  {
   "cell_type": "code",
   "execution_count": 37,
   "id": "0802ddc7-ade5-4977-b6fd-02df1114a671",
   "metadata": {},
   "outputs": [
    {
     "data": {
      "text/plain": [
       "['In',\n",
       " 'Out',\n",
       " '_',\n",
       " '_14',\n",
       " '_15',\n",
       " '_18',\n",
       " '_2',\n",
       " '_25',\n",
       " '_6',\n",
       " '_7',\n",
       " '_8',\n",
       " '_9',\n",
       " '__',\n",
       " '___',\n",
       " '__builtin__',\n",
       " '__builtins__',\n",
       " '__doc__',\n",
       " '__loader__',\n",
       " '__name__',\n",
       " '__package__',\n",
       " '__spec__',\n",
       " '_dh',\n",
       " '_i',\n",
       " '_i1',\n",
       " '_i10',\n",
       " '_i11',\n",
       " '_i12',\n",
       " '_i13',\n",
       " '_i14',\n",
       " '_i15',\n",
       " '_i16',\n",
       " '_i17',\n",
       " '_i18',\n",
       " '_i19',\n",
       " '_i2',\n",
       " '_i20',\n",
       " '_i21',\n",
       " '_i22',\n",
       " '_i23',\n",
       " '_i24',\n",
       " '_i25',\n",
       " '_i26',\n",
       " '_i27',\n",
       " '_i28',\n",
       " '_i29',\n",
       " '_i3',\n",
       " '_i30',\n",
       " '_i31',\n",
       " '_i32',\n",
       " '_i33',\n",
       " '_i34',\n",
       " '_i35',\n",
       " '_i36',\n",
       " '_i37',\n",
       " '_i4',\n",
       " '_i5',\n",
       " '_i6',\n",
       " '_i7',\n",
       " '_i8',\n",
       " '_i9',\n",
       " '_ih',\n",
       " '_ii',\n",
       " '_iii',\n",
       " '_oh',\n",
       " 'a',\n",
       " 'exit',\n",
       " 'fact',\n",
       " 'foo',\n",
       " 'get_ipython',\n",
       " 'importlib',\n",
       " 'm',\n",
       " 'mod',\n",
       " 'np',\n",
       " 'quit',\n",
       " 's']"
      ]
     },
     "execution_count": 37,
     "metadata": {},
     "output_type": "execute_result"
    }
   ],
   "source": [
    "dir()"
   ]
  },
  {
   "cell_type": "code",
   "execution_count": 5,
   "id": "22450424-7773-42fa-bf13-be7df77466f2",
   "metadata": {},
   "outputs": [
    {
     "name": "stdout",
     "output_type": "stream",
     "text": [
      "=========================\n",
      "Operasi Matematika\n",
      "  1. Jumlah \t [+]\n",
      "  2. Kurang \t [-]\n",
      "  3. Kali \t [*]\n",
      "  4. Bagi \t [/]\n",
      "=========================\n"
     ]
    },
    {
     "name": "stdin",
     "output_type": "stream",
     "text": [
      "Pilih operasi (1/2/3/4):  1\n",
      "Masukkan bilangan pertama:  2\n",
      "Masukkan bilangan kedua:  2\n"
     ]
    },
    {
     "name": "stdout",
     "output_type": "stream",
     "text": [
      "=========================\n",
      "User memilih penjumlahan\n",
      "Hasil operasi dari 2 + 2 = 4\n"
     ]
    }
   ],
   "source": [
    "print('=' * 25)\n",
    "print('Operasi Matematika')\n",
    "print('  1. Jumlah \\t [+]')\n",
    "print('  2. Kurang \\t [-]')\n",
    "print('  3. Kali \\t [*]')\n",
    "print('  4. Bagi \\t [/]')\n",
    "print('=' * 25)\n",
    "\n",
    "operasi = input('Pilih operasi (1/2/3/4): ')\n",
    "bilangan_1 = eval(input('Masukkan bilangan pertama: '))\n",
    "bilangan_2 = eval(input('Masukkan bilangan kedua: '))\n",
    "print('=' * 25)\n",
    "\n",
    "if operasi == '1':\n",
    "  print('User memilih penjumlahan')\n",
    "elif operasi == '2':\n",
    "  print('User memilih pengurangan')\n",
    "elif operasi == '3':\n",
    "  print('User memilih perkalian')\n",
    "elif operasi == '4':\n",
    "  print('User memilih pembagian')\n",
    "else:\n",
    "  print('Tidak valid')\n",
    "if operasi == '1':\n",
    "  hasil = bilangan_1 + bilangan_2\n",
    "  print(f'Hasil operasi dari {bilangan_1} + {bilangan_2} = {hasil}')\n",
    "elif operasi == '2':\n",
    "  hasil = bilangan_1 - bilangan_2\n",
    "  print(f'Hasil operasi dari {bilangan_1} - {bilangan_2} = {hasil}')\n",
    "elif operasi == '3':\n",
    "  hasil = bilangan_1 * bilangan_2\n",
    "  print(f'Hasil operasi dari {bilangan_1} * {bilangan_2} = {hasil}')\n",
    "elif operasi == '4':\n",
    "  hasil = bilangan_1 / bilangan_2\n",
    "  print(f'Hasil operasi dari {bilangan_1} / {bilangan_2} = {hasil}')\n",
    "else:\n",
    "  print('Tidak valid')"
   ]
  },
  {
   "cell_type": "code",
   "execution_count": 8,
   "id": "88e77886-1986-471b-b231-231e25d71876",
   "metadata": {},
   "outputs": [
    {
     "name": "stdout",
     "output_type": "stream",
     "text": [
      "=========================\n",
      "Operasi Matematika\n",
      "  x Kali \t [*]\n",
      "  : Bagi \t [/]\n",
      "  - Kurang \t [-]\n",
      "  + Jumlah \t [+]\n",
      "=========================\n"
     ]
    },
    {
     "name": "stdin",
     "output_type": "stream",
     "text": [
      "Masukkan bilangan pertama:  20\n",
      "Masukkan bilangan kedua:  30\n",
      "Pilih operasi (x/:/-/+):  :\n"
     ]
    },
    {
     "name": "stdout",
     "output_type": "stream",
     "text": [
      "=========================\n",
      "User memilih pembagian\n",
      "Hasil operasi dari 20 / 30 = 0.6666666666666666\n"
     ]
    }
   ],
   "source": [
    "print('=' * 25)\n",
    "print('Operasi Matematika')\n",
    "print('  x Kali \\t [*]')\n",
    "print('  : Bagi \\t [/]')\n",
    "print('  - Kurang \\t [-]')\n",
    "print('  + Jumlah \\t [+]')\n",
    "\n",
    "print('=' * 25)\n",
    "\n",
    "bilangan_1 = eval(input('Masukkan bilangan pertama: '))\n",
    "bilangan_2 = eval(input('Masukkan bilangan kedua: '))\n",
    "operasi = input('Pilih operasi (x/:/-/+): ')\n",
    "print('=' * 25)\n",
    "\n",
    "if operasi == '+':\n",
    "  print('User memilih penjumlahan')\n",
    "elif operasi == '-':\n",
    "  print('User memilih pengurangan')\n",
    "elif operasi == 'x':\n",
    "  print('User memilih perkalian')\n",
    "elif operasi == ':':\n",
    "  print('User memilih pembagian')\n",
    "else:\n",
    "  print('Tidak valid')\n",
    "if operasi == '+':\n",
    "  hasil = bilangan_1 + bilangan_2\n",
    "  print(f'Hasil operasi dari {bilangan_1} + {bilangan_2} = {hasil}')\n",
    "elif operasi == '-':\n",
    "  hasil = bilangan_1 - bilangan_2\n",
    "  print(f'Hasil operasi dari {bilangan_1} - {bilangan_2} = {hasil}')\n",
    "elif operasi == 'x':\n",
    "  hasil = bilangan_1 * bilangan_2\n",
    "  print(f'Hasil operasi dari {bilangan_1} * {bilangan_2} = {hasil}')\n",
    "elif operasi == ':':\n",
    "  hasil = bilangan_1 / bilangan_2\n",
    "  print(f'Hasil operasi dari {bilangan_1} / {bilangan_2} = {hasil}')\n",
    "else:\n",
    "  print('Tidak valid')"
   ]
  },
  {
   "cell_type": "code",
   "execution_count": null,
   "id": "43feec0e-d033-4ec3-9723-48203ce72c4c",
   "metadata": {},
   "outputs": [],
   "source": []
  }
 ],
 "metadata": {
  "kernelspec": {
   "display_name": "Python 3 (ipykernel)",
   "language": "python",
   "name": "python3"
  },
  "language_info": {
   "codemirror_mode": {
    "name": "ipython",
    "version": 3
   },
   "file_extension": ".py",
   "mimetype": "text/x-python",
   "name": "python",
   "nbconvert_exporter": "python",
   "pygments_lexer": "ipython3",
   "version": "3.9.13"
  }
 },
 "nbformat": 4,
 "nbformat_minor": 5
}
